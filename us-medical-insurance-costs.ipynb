{
 "cells": [
  {
   "cell_type": "markdown",
   "metadata": {},
   "source": [
    "# U.S. Medical Insurance Costs"
   ]
  },
  {
   "cell_type": "raw",
   "metadata": {},
   "source": [
    "In this project, a CSV file with medical insurance costs will be investigated using Python fundamentals. The goal with this project will be to analyze various attributes within insurance.csv to learn more about the patient information in the file and gain insight into potential use cases for the dataset."
   ]
  },
  {
   "cell_type": "code",
   "execution_count": 1,
   "metadata": {},
   "outputs": [],
   "source": [
    "#import csv library \n",
    "import csv "
   ]
  },
  {
   "cell_type": "markdown",
   "metadata": {},
   "source": [
    "By starting a project , all libraries will be used in the project are needed to be imported . However , this project will only need to use csv library to retrieve and analyze the data from the dataset (source: https://www.kaggle.com/datasets/mirichoi0218/insurance)."
   ]
  },
  {
   "cell_type": "markdown",
   "metadata": {},
   "source": [
    "The next step is to look through insurance.csv in order to get aquanted with the data. The following aspects of the data file will be checked in order to plan out how to import the data into a Python file:\n",
    "\n",
    "-The names of columns and rows\n",
    "-Any noticeable missing data\n",
    "-Types of values (numerical vs. categorical)"
   ]
  },
  {
   "cell_type": "code",
   "execution_count": 2,
   "metadata": {},
   "outputs": [],
   "source": [
    "#Create empty lists for the attributes of the insurance data\n",
    "ages = []\n",
    "sexes = []\n",
    "bmis = []\n",
    "num_children = []\n",
    "smoker_statuses = []\n",
    "regions = []\n",
    "insurance_charges = []"
   ]
  },
  {
   "cell_type": "markdown",
   "metadata": {},
   "source": [
    "The insurance.csv contains the following columns:\n",
    "\n",
    "-Patient Age\n",
    "-Patient Sex\n",
    "-Patient BMI\n",
    "-Patient Number of Children\n",
    "-Patient Smoking Status\n",
    "-Patient U.S Geopraphical Region\n",
    "-Patient Yearly Medical Insurance Cost\n",
    "\n",
    "There are no signs of missing data. To store this information, seven empty lists will be created hold each individual column of data from insurance.csv."
   ]
  },
  {
   "cell_type": "code",
   "execution_count": null,
   "metadata": {},
   "outputs": [],
   "source": [
    "# Create a function to retrieve all the data and save the values into the corresponding lists\n",
    "\n",
    "# ls = list_name , attribute = column name \n",
    "def get_data(ls , attribute):\n",
    "    #open the csv file\n",
    "    with open (\"insurance.csv\") as info:\n",
    "        #read  the data\n",
    "        info_reader = csv.DictReader(info)\n",
    "        #iterate the rows of data\n",
    "        for row in info_reader:\n",
    "            # add the data from each row to a list\n",
    "            ls.append(row[attribute])\n",
    "        #return the list\n",
    "        return ls\n",
    "    \n",
    "# load all the data into the lists \n",
    "load_list_data(ages, 'insurance.csv', 'age')\n",
    "load_list_data(sexes, 'insurance.csv', 'sex')\n",
    "load_list_data(bmis, 'insurance.csv', 'bmi')\n",
    "load_list_data(num_children, 'insurance.csv', 'children')\n",
    "load_list_data(smoker_statuses, 'insurance.csv', 'smoker')\n",
    "load_list_data(regions, 'insurance.csv', 'region')\n",
    "load_list_data(insurance_charges, 'insurance.csv', 'charges')"
   ]
  },
  {
   "cell_type": "code",
   "execution_count": null,
   "metadata": {},
   "outputs": [],
   "source": []
  }
 ],
 "metadata": {
  "kernelspec": {
   "display_name": "Python 3 (ipykernel)",
   "language": "python",
   "name": "python3"
  },
  "language_info": {
   "codemirror_mode": {
    "name": "ipython",
    "version": 3
   },
   "file_extension": ".py",
   "mimetype": "text/x-python",
   "name": "python",
   "nbconvert_exporter": "python",
   "pygments_lexer": "ipython3",
   "version": "3.9.13"
  }
 },
 "nbformat": 4,
 "nbformat_minor": 4
}
